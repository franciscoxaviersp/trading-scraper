{
 "cells": [
  {
   "cell_type": "code",
   "execution_count": 5,
   "metadata": {},
   "outputs": [
    {
     "name": "stdout",
     "output_type": "stream",
     "text": [
      "ticker1.html\n",
      "Error\n",
      "Error\n",
      "Error\n",
      "Error\n",
      "Error\n",
      "Error\n",
      "ticker2.html\n",
      "Error\n",
      "Error\n",
      "ticker3.html\n",
      "Error\n",
      "ticker4.html\n",
      "Error\n",
      "Error\n",
      "ticker5.html\n",
      "ticker6.html\n",
      "2954254352384\n"
     ]
    }
   ],
   "source": [
    "from bs4 import BeautifulSoup\n",
    "import yfinance as yf\n",
    "import numpy as np\n",
    "from pandas_datareader import data\n",
    "import pandas as pd\n",
    "import pandas_datareader as web\n",
    "\n",
    "count = 0\n",
    "ticker_dict = {}\n",
    "for i in range(1, 7):\n",
    "    base_path = \"ticker{number}.html\"\n",
    "    print(base_path.format(number=i))\n",
    "    path = base_path.format(number=i)\n",
    "    soup = None\n",
    "    with open(path) as fp:\n",
    "        soup = BeautifulSoup(fp, 'html.parser')\n",
    "\n",
    "    for ticker in soup.find_all('tr', {'class' : 'svelte-1jtwn20'}):\n",
    "        temp = ticker.find_all('td', {'class' : 'svelte-1jtwn20'})\n",
    "        if len(temp) > 0:\n",
    "            symbol = temp[0].text\n",
    "            #print(symbol)\n",
    "            count += 1\n",
    "            try:\n",
    "                yf_info = yf.Ticker(symbol)\n",
    "\n",
    "                info = yf_info.info\n",
    "                if 'marketCap' in info:\n",
    "                    ticker_dict[symbol] = info['marketCap']\n",
    "            except:\n",
    "                print(\"Error\")\n",
    "\n",
    "            #yf_info.earnings_dates\n",
    "            #print(yf_info.info['marketCap'])\n",
    "            #print(count)\n",
    "\n",
    "print(ticker_dict[\"AAPL\"])\n"
   ]
  }
 ],
 "metadata": {
  "kernelspec": {
   "display_name": ".venv",
   "language": "python",
   "name": "python3"
  },
  "language_info": {
   "codemirror_mode": {
    "name": "ipython",
    "version": 3
   },
   "file_extension": ".py",
   "mimetype": "text/x-python",
   "name": "python",
   "nbconvert_exporter": "python",
   "pygments_lexer": "ipython3",
   "version": "3.10.13"
  },
  "orig_nbformat": 4
 },
 "nbformat": 4,
 "nbformat_minor": 2
}
